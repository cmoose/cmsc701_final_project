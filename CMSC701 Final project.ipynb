{
 "cells": [
  {
   "cell_type": "markdown",
   "metadata": {},
   "source": [
    "# CMSC701 Final Project"
   ]
  },
  {
   "cell_type": "markdown",
   "metadata": {},
   "source": [
    "## Document Similarity through Substitution Matrix Generation and Local Word Alignment"
   ]
  },
  {
   "cell_type": "markdown",
   "metadata": {},
   "source": [
    "### Project Team\n",
    "- Sriram Karthik Badam (sbadam@umd.edu)\n",
    "- Chris Musialek (chris@musialek.org)\n",
    "- Deok Gun Park (intuinno@umd.edu)"
   ]
  },
  {
   "cell_type": "markdown",
   "metadata": {},
   "source": [
    "### Introduction\n",
    "In this project, we propose to create a generalized substitution matrix that can be used to match and rank the similarity of documents within a corpus of text. This substitution matrix will be a |V| x |V| matrix representing the entire vocabulary of words (or words of some importance) from the text corpus. We will then evaluate this scoring system on our text corpus to understand its performance in aligning similar sets of text. During this project, we will explore two different approaches for generating the substitution matrix.\n",
    "\n",
    "### Approaches\n",
    "#### Latent Semantic Analysis and Local Alignment\n",
    "One intuition we have is that similar words reside in the same semantic spaces. Latent Semantic Analysis is a technique using SVD to generate vectors representing the meanings of words, which can be used to build a multidimensional space of the words in the vocabulary, allowing us to calculate the distance between all words in the corpus. We think that these calculations could be a useful source of measures for the substitution matrix needed to produce the local alignment scores.\n",
    "\n",
    "Several LSA software packages exist that we think can learn reasonable word vectors to build the semantic space. They are listed in the References section below. Additionally, there are some manually-annotated word similarity data available (such as here) that we think will help us to evaluate the accuracy of our word vectors once we run LSA on our text.\n",
    "\n",
    "#### N-Grams and Local Alignment\n",
    "The Blosum or PAM matrices are developed on identical protein sequences to make matching relatively easy.  For example, PAM1 matrix represents one change per 100 amino acids.  This was derived from the analysis of accurately aligned homologous proteins. Similarly, we can apply this approach to generate a word substitution matrix for documents within a text corpus. However, one major difference between amino acids sequences and human language sentences is that the lexicon is much larger (e.g., orders of a few hundred thousand for English). This means finding accurately aligned long sequences of words in natural languages is less probable than amino acid/nucleotide sequences.  \n",
    "In our second approach, we plan to explore trigram matching.  Between two trigrams (A, B), where  A = [a1 a2 a3] and B = [b1 b2 b3], if words within (a1, b1) and (a3, b3) pairs match, we can assume that b2 can be substituted with a2. By counting these a2 to b2 substitutions and normalizing them by the number of times a2 is observed in the trigrams (in the form T = [x a2 y]), we can estimate the probability of substitution between specific words, to generate the substitution matrix (pi->j). This matrix can be further used for the local alignment between the documents.\n",
    "\n",
    "#### Datasets\n",
    "We have several ideas for potential datasets, but could use some additional advice at this point. One type of text that we think would be interesting is events in news media. Often, journalistic articles contain snippets of quotes which may change over time. In addition, there are some great, already pre-processed, texts available on the word2vec website such as Wikipedia data, Google News data, and additional corpora. Lastly, we plan to reach out to Hanan Samet to see if their preprocessed Newsstand data may be available for us to use.\n",
    "Applications \n",
    "Document similarities based on edit distance are more effective for applications requiring context-sensitive document matching, where comparison of the sentence structures in the document is important (for example, plagiarism detection). In comparison, alternative methods based on topic modeling utilizing bag-of-words models can be more effective for estimating the similarities in the latent topic space, and are not ideal for plagiarism detection as they tend to lose the structural information.   \n",
    "\n",
    "#### References\n",
    "##### Papers solving similar problems: \n",
    "- http://nlp.stanford.edu/~socherr/EMNLP2013_RNTN.pdf\n",
    "- http://nlp.stanford.edu/~manning/papers/SocherHuangPenningtonNgManning_NIPS2011.pdf\n",
    "\n",
    "##### Survey papers:\n",
    "Text Similarity http://research.ijcaonline.org/volume68/number13/pxc3887118.pdf\n",
    "String Matching http://knoesis.cs.wright.edu/faculty/pascal/pub/strings-iswc13.pdf\n",
    "\n",
    "##### LSA Software:\n",
    "https://github.com/fozziethebeat/S-Space/wiki/GettingStarted\n",
    "http://infomap-nlp.sourceforge.net/\n",
    "http://edutechwiki.unige.ch/en/Latent_semantic_analysis_and_indexing#Software\n",
    "https://code.google.com/p/word2vec/\n"
   ]
  },
  {
   "cell_type": "markdown",
   "metadata": {},
   "source": [
    "## Word Subsitution Matrix inspired by BLOSUM\n",
    "\n",
    "In this section, I will develop word substitution matrix inspired by BLOSUM.  \n",
    "\n",
    "### Referecen for BLOSUM\n",
    " - http://www3.cs.stonybrook.edu/~rp/class/549f14/lectures/CSE549-Lec05.pdf\n",
    " - http://www.cs.columbia.edu/4761/assignments/assignment1/reference1.pdf\n",
    " \n",
    "### BLOSUM matrix process\n",
    "Introduced by Henikoff & Henikoff in 1992  Start with the BLOCKS database (H&H ’91) \n",
    "1.  Look for conserved (gapless, >=62% identical) regions in alignments. \n",
    "2.  Count all pairs of amino acids in each column of the alignments.   \n",
    "3.  Use amino acid pair frequencies to derive “score” for a mutation/replacement \n",
    "\n",
    "### Our method\n",
    "1. Look for aligned trigram, such as [a1, a2, a3] and [b1, b2, b3], where a1 = b1 and a3 = b3.  \n",
    "2. Count all pairs of a2 and b2 in such alignments \n",
    "3. Use this pair frequencies freq(a2, b2) to derive score for a subsitition. \n",
    "\n"
   ]
  },
  {
   "cell_type": "markdown",
   "metadata": {},
   "source": [
    "### Load Library"
   ]
  },
  {
   "cell_type": "code",
   "execution_count": 12,
   "metadata": {
    "collapsed": true
   },
   "outputs": [],
   "source": [
    "import nltk\n",
    "from nltk.collocations import *\n",
    "import time\n",
    "import cPickle as pickle\n",
    "from nltk.corpus import stopwords\n",
    "from itertools import combinations_with_replacement\n"
   ]
  },
  {
   "cell_type": "markdown",
   "metadata": {},
   "source": [
    "### Data Preprocessing\n",
    "\n",
    "Here I will parse the data and remove tokens that do not occur more than unigram threshold times. The main trick here is to use frequent tokens which is happening more than thresholdUnigram (10) and not stop words.  We will split the main file into 10mb chunk because when we use 100mb chunk, the process is killed.  After getting trigram frequency distribution for the 10mb chunk park, the trigram will be filtered to get only the [a1 a2 a3] trigram where a2 belongs to frequent tokens.  After this filtering is done, the remaining frequency distribution will be combined to the main distribution ( trigramFD ) which will be used in the rest of this process.  \n",
    "\n",
    "\n",
    "We didn't use other filtering methods such as removing tokens that does not belong to the frequent tokens because we want to keep the alignment information.  For example in the following sentence, if we apply simple filtering which is removing stopwords 'a' , the remaining trigram will not be aligned.   \n",
    " - I like a blue dog.   -> like blue dog  -> [like, blue, dog]\n",
    " - I love a green dog.  -> love green dog -> [love, green, dog] \n",
    "\n",
    "\n",
    "#### Hyper parameters\n",
    " - thresholdUnigram = 10\n"
   ]
  },
  {
   "cell_type": "code",
   "execution_count": 13,
   "metadata": {
    "collapsed": true
   },
   "outputs": [],
   "source": [
    "#######################\n",
    "# Tuning parameters for program\n",
    "thresholdUnigram = 10\n",
    "#######################\n"
   ]
  },
  {
   "cell_type": "code",
   "execution_count": 14,
   "metadata": {
    "collapsed": false
   },
   "outputs": [
    {
     "name": "stdout",
     "output_type": "stream",
     "text": [
      "164.474277973\n",
      "0\n",
      "30.9311208725\n",
      "1\n"
     ]
    }
   ],
   "source": [
    "\n",
    "trigramFD = nltk.FreqDist()\n",
    "\n",
    "for fileloop in range(2):\n",
    "\n",
    "\n",
    "    start = time.time()\n",
    "\n",
    "    # file = open('en_quotes_2008-08.lemma.txt')\n",
    "    file = open('split' + str(fileloop).zfill(3))\n",
    "    t = file.read()\n",
    "\n",
    "\n",
    "    tokens = nltk.word_tokenize(t)\n",
    "    lowerTokens = [w.lower() for w in tokens]\n",
    "    unigram = nltk.FreqDist(tokens)\n",
    "    frequentTokens = {k:v for k,v in unigram.items() if v > thresholdUnigram and k not in stopwords.words('english')}\n",
    "\n",
    "    # reducedText = [k if k in frequentTokens else specialSpacer  for k in tokens]\n",
    "\n",
    "\n",
    "    trigramFinder = TrigramCollocationFinder.from_words(lowerTokens)\n",
    "\n",
    "    trigramFinder.apply_ngram_filter( lambda w1, w2, w3: w2 not in frequentTokens )\n",
    "    # trigramFinder.apply_freq_filter(2)\n",
    "\n",
    "    trigramFD |=  trigramFinder.ngram_fd\n",
    "    end = time.time()\n",
    "\n",
    "    print end - start\n",
    "    print fileloop\n",
    "\n",
    "pickle.dump(trigramFD, open('trigramFDsmall.pickle','wb'))\n"
   ]
  },
  {
   "cell_type": "code",
   "execution_count": 15,
   "metadata": {
    "collapsed": false
   },
   "outputs": [
    {
     "data": {
      "text/plain": [
       "819471"
      ]
     },
     "execution_count": 15,
     "metadata": {},
     "output_type": "execute_result"
    }
   ],
   "source": [
    "trigramFD = pickle.load(open(\"trigramFDsmall.pickle\",'rb'))\n",
    "# Test parsing\n",
    "len(trigramFD)\n",
    "\n"
   ]
  },
  {
   "cell_type": "markdown",
   "metadata": {},
   "source": [
    "### 1. Count aligned word distribution\n",
    "\n",
    "Here I will iterate over all the trigram and create a aligned freq distribution.  when there is trigram such as \n",
    "\n",
    "- [a1 x a3] occured n times\n",
    "- [a1 y a3] occured m times\n",
    "- [a2 x a3] occured l times\n",
    "\n",
    "We will collect the frequency distribution of (a1, a3), which will be Freqency distribution of x = n and y = m "
   ]
  },
  {
   "cell_type": "code",
   "execution_count": 16,
   "metadata": {
    "collapsed": false
   },
   "outputs": [
    {
     "name": "stdout",
     "output_type": "stream",
     "text": [
      "7.98672199249\n"
     ]
    }
   ],
   "source": [
    "start = time.time()\n",
    "alignedWords = {}\n",
    "\n",
    "for word, frequency in trigramFD.iteritems():\n",
    "    if not (word[0], word[2]) in alignedWords:\n",
    "        alignedWords[(word[0], word[2])] = nltk.FreqDist()\n",
    "        \n",
    "    alignedWords[(word[0], word[2])][word[1]] += frequency\n",
    "    \n",
    "end = time.time()\n",
    "\n",
    "print end-start\n"
   ]
  },
  {
   "cell_type": "code",
   "execution_count": 17,
   "metadata": {
    "collapsed": false
   },
   "outputs": [
    {
     "name": "stdout",
     "output_type": "stream",
     "text": [
      "0.365156173706\n",
      "386557\n",
      "76344\n"
     ]
    }
   ],
   "source": [
    "start = time.time()\n",
    "# len(alignedWords[('face','enjoy')])\n",
    "\n",
    "newAlignedWords = [alignedWords[(k,v)] for k,v  in alignedWords if len(alignedWords[(k,v)]) > 1]\n",
    "end = time.time()\n",
    "\n",
    "print end-start\n",
    "\n",
    "print len(alignedWords)\n",
    "print len(newAlignedWords)\n",
    "\n",
    "pickle.dump(newAlignedWords, open('newAlignedWords.pickle','wb'))"
   ]
  },
  {
   "cell_type": "markdown",
   "metadata": {},
   "source": [
    "### 2. Count Combinations of pairs\n",
    "\n",
    "Here I will Count pair frequencies c(i,j) for each pair of amino acids i and j.  \n",
    "\n",
    "- For like comparison, c(i,i) = ni * (ni -1 ) /2 \n",
    "- For unlike comparison, c(i,j) = ni * nj "
   ]
  },
  {
   "cell_type": "code",
   "execution_count": 18,
   "metadata": {
    "collapsed": false
   },
   "outputs": [
    {
     "name": "stdout",
     "output_type": "stream",
     "text": [
      "48.3069269657\n"
     ]
    }
   ],
   "source": [
    "start = time.time()\n",
    "\n",
    "newAlignedWords = pickle.load(open(\"newAlignedWords.pickle\",'rb'))\n",
    "\n",
    "substitutionCount = nltk.FreqDist()\n",
    "countAllCombinatinations = 0\n",
    "\n",
    "\n",
    "for v in newAlignedWords:\n",
    "    for w1, w2 in combinations_with_replacement(v,2):\n",
    "        if w1 == w2 and v[w1] != 1:\n",
    "#             print 'I am here'\n",
    "            substitutionCount[(w1,w2)] += v[w1] * (v[w1]-1) / 2\n",
    "            countAllCombinatinations += v[w1] * (v[w1]-1) /2\n",
    "        else:\n",
    "            substitutionCount[(w1,w2)] += v[w1] * v[w2]\n",
    "            countAllCombinatinations += v[w1] * v[w2]\n",
    "\n",
    "\n",
    "\n",
    "end = time.time()\n",
    "\n",
    "print end-start"
   ]
  },
  {
   "cell_type": "markdown",
   "metadata": {},
   "source": [
    "### 3. Derive score\n",
    "\n",
    "Here I will Count pair frequencies c(i,j) for each pair of amino acids i and j.  \n",
    "\n",
    "- For like comparison, c(i,i) = ni * (ni -1 ) /2 \n",
    "- For unlike comparison, c(i,j) = ni * nj "
   ]
  },
  {
   "cell_type": "code",
   "execution_count": 19,
   "metadata": {
    "collapsed": false
   },
   "outputs": [
    {
     "name": "stdout",
     "output_type": "stream",
     "text": [
      "561.108908176\n"
     ]
    }
   ],
   "source": [
    "# In[33]:\n",
    "\n",
    "start = time.time()\n",
    "\n",
    "q = nltk.FreqDist()\n",
    "\n",
    "wordlist = nltk.FreqDist()\n",
    "for w1, w2 in substitutionCount:\n",
    "    q[(w1,w2)] = 1.0 * substitutionCount[(w1,w2)] /countAllCombinatinations\n",
    "    wordlist[w1] += 1\n",
    "    wordlist[w2] += 1\n",
    "\n",
    "\n",
    "def sumFreqDist(fd):\n",
    "    result = 0\n",
    "    for a in fd:\n",
    "        result += fd[a]\n",
    "\n",
    "    return result\n",
    "\n",
    "\n",
    "prob = {}\n",
    "for w_i, f_i  in wordlist.iteritems():\n",
    "    sumRemainder = 0\n",
    "    for w_j, f_j in wordlist.iteritems():\n",
    "        if w_i < w_j:\n",
    "            sumRemainder += q[(w_i,w_j)]\n",
    "        elif w_i > w_j:\n",
    "            sumRemainder += q[(w_j,w_i)]\n",
    "\n",
    "\n",
    "    prob[w_i] = q[(word, word)] + sumRemainder / 2\n",
    "\n",
    "expectedFrequency = {}\n",
    "\n",
    "for w_i, f_i  in wordlist.iteritems():\n",
    "    for w_j, f_j in wordlist.iteritems():\n",
    "        if w_i != w_j:\n",
    "            expectedFrequency[(w_i, w_j)] = prob[w_i] * prob[w_j] * 2\n",
    "\n",
    "        else:\n",
    "            expectedFrequency[(w_i, w_j)] = prob[w_i] * prob[w_i]\n",
    "\n",
    "\n",
    "\n",
    "score = {}\n",
    "\n",
    "for w_i, f_i  in wordlist.iteritems():\n",
    "    for w_j, f_j in wordlist.iteritems():\n",
    "        if expectedFrequency[(w_i,w_j)] == 0:\n",
    "            score[(w_i,w_j)] = 0\n",
    "            score[(w_j, w_i)] = 0\n",
    "        elif w_i < w_j:\n",
    "            score[w_i,w_j] =  q[(w_i,w_j)] / expectedFrequency[(w_i,w_j)]\n",
    "        elif w_i > w_j:\n",
    "            score[w_i,w_j] =  q[(w_j,w_i)] / expectedFrequency[(w_i,w_j)]\n",
    "\n",
    "\n",
    "# print score\n",
    "end = time.time()\n",
    "\n",
    "print end-start"
   ]
  },
  {
   "cell_type": "code",
   "execution_count": 20,
   "metadata": {
    "collapsed": false
   },
   "outputs": [],
   "source": [
    "# substitutionCount\n"
   ]
  },
  {
   "cell_type": "code",
   "execution_count": 21,
   "metadata": {
    "collapsed": true
   },
   "outputs": [],
   "source": [
    "import itertools\n"
   ]
  },
  {
   "cell_type": "code",
   "execution_count": 22,
   "metadata": {
    "collapsed": false
   },
   "outputs": [
    {
     "name": "stdout",
     "output_type": "stream",
     "text": [
      "('A', 'A')\n",
      "('A', 'B')\n",
      "('A', 'C')\n",
      "('B', 'B')\n",
      "('B', 'C')\n",
      "('C', 'C')\n"
     ]
    }
   ],
   "source": [
    "for k in itertools.combinations_with_replacement('ABC',2):\n",
    "    print k"
   ]
  },
  {
   "cell_type": "code",
   "execution_count": null,
   "metadata": {
    "collapsed": true
   },
   "outputs": [],
   "source": []
  }
 ],
 "metadata": {
  "kernelspec": {
   "display_name": "Python 2",
   "language": "python",
   "name": "python2"
  },
  "language_info": {
   "codemirror_mode": {
    "name": "ipython",
    "version": 2
   },
   "file_extension": ".py",
   "mimetype": "text/x-python",
   "name": "python",
   "nbconvert_exporter": "python",
   "pygments_lexer": "ipython2",
   "version": "2.7.10"
  }
 },
 "nbformat": 4,
 "nbformat_minor": 0
}
